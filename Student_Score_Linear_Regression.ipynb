{
  "nbformat": 4,
  "nbformat_minor": 0,
  "metadata": {
    "colab": {
      "name": "Student_Score_Linear_Regression.ipynb",
      "provenance": [],
      "collapsed_sections": []
    },
    "kernelspec": {
      "name": "python3",
      "display_name": "Python 3"
    },
    "language_info": {
      "name": "python"
    }
  },
  "cells": [
    {
      "cell_type": "markdown",
      "metadata": {
        "id": "84oVxEgYQLlr"
      },
      "source": [
        "# **Data Science & Business Analytics Task**\n",
        "\n",
        "\n",
        "1.**Task:** Predict the percentage of an student based on the no. of study hours.\n",
        "\n",
        "2.**Libraries Used:** numpy,matplotilb,pandas,seaborn,sclicit learn.\n",
        "\n",
        "3.**Dataset Used:** Students Scores dataset.@THE SPARKS FOUNDATION(GRIP)\n",
        "\n",
        "Submitted By:- **Pallavi Pandurang Vedpathak**\n",
        "\n",
        "**Links:**\n",
        "\n",
        "a.Youtube:\n",
        "\n",
        "b.Github: \n",
        "\n",
        "c.Dataset: http://bit.ly/w-data\n",
        "\n",
        "\n",
        "\n",
        "\n",
        "# **Importing all libraries required in this notebook**"
      ]
    },
    {
      "cell_type": "code",
      "metadata": {
        "id": "NipnPdNHPx3R"
      },
      "source": [
        "import pandas as pd\n",
        "import numpy as np  \n",
        "import matplotlib.pyplot as plt  \n",
        "import seaborn as sns"
      ],
      "execution_count": 26,
      "outputs": []
    },
    {
      "cell_type": "markdown",
      "metadata": {
        "id": "k-vlaPHkRaFS"
      },
      "source": [
        "\n",
        "# **Reading data from remote link**"
      ]
    },
    {
      "cell_type": "code",
      "metadata": {
        "colab": {
          "base_uri": "https://localhost:8080/"
        },
        "id": "N6CheSJdRZe7",
        "outputId": "764852a4-97e7-46ce-c2f2-f363595b21a8"
      },
      "source": [
        "data_set = pd.read_csv(\"http://bit.ly/w-data\")\n",
        "\n",
        "print(\"Data imported successfully\")"
      ],
      "execution_count": 27,
      "outputs": [
        {
          "output_type": "stream",
          "text": [
            "Data imported successfully\n"
          ],
          "name": "stdout"
        }
      ]
    },
    {
      "cell_type": "markdown",
      "metadata": {
        "id": "PAC3pEyIRl0p"
      },
      "source": [
        "\n",
        "**`Here we can see the data of 1st 10 rows`**"
      ]
    },
    {
      "cell_type": "code",
      "metadata": {
        "colab": {
          "base_uri": "https://localhost:8080/",
          "height": 357
        },
        "id": "mHlOwBu-RvVx",
        "outputId": "af3bde3e-f3ec-4fcc-9972-7ccc01a217fb"
      },
      "source": [
        "data_set.head(10)"
      ],
      "execution_count": 28,
      "outputs": [
        {
          "output_type": "execute_result",
          "data": {
            "text/html": [
              "<div>\n",
              "<style scoped>\n",
              "    .dataframe tbody tr th:only-of-type {\n",
              "        vertical-align: middle;\n",
              "    }\n",
              "\n",
              "    .dataframe tbody tr th {\n",
              "        vertical-align: top;\n",
              "    }\n",
              "\n",
              "    .dataframe thead th {\n",
              "        text-align: right;\n",
              "    }\n",
              "</style>\n",
              "<table border=\"1\" class=\"dataframe\">\n",
              "  <thead>\n",
              "    <tr style=\"text-align: right;\">\n",
              "      <th></th>\n",
              "      <th>Hours</th>\n",
              "      <th>Scores</th>\n",
              "    </tr>\n",
              "  </thead>\n",
              "  <tbody>\n",
              "    <tr>\n",
              "      <th>0</th>\n",
              "      <td>2.5</td>\n",
              "      <td>21</td>\n",
              "    </tr>\n",
              "    <tr>\n",
              "      <th>1</th>\n",
              "      <td>5.1</td>\n",
              "      <td>47</td>\n",
              "    </tr>\n",
              "    <tr>\n",
              "      <th>2</th>\n",
              "      <td>3.2</td>\n",
              "      <td>27</td>\n",
              "    </tr>\n",
              "    <tr>\n",
              "      <th>3</th>\n",
              "      <td>8.5</td>\n",
              "      <td>75</td>\n",
              "    </tr>\n",
              "    <tr>\n",
              "      <th>4</th>\n",
              "      <td>3.5</td>\n",
              "      <td>30</td>\n",
              "    </tr>\n",
              "    <tr>\n",
              "      <th>5</th>\n",
              "      <td>1.5</td>\n",
              "      <td>20</td>\n",
              "    </tr>\n",
              "    <tr>\n",
              "      <th>6</th>\n",
              "      <td>9.2</td>\n",
              "      <td>88</td>\n",
              "    </tr>\n",
              "    <tr>\n",
              "      <th>7</th>\n",
              "      <td>5.5</td>\n",
              "      <td>60</td>\n",
              "    </tr>\n",
              "    <tr>\n",
              "      <th>8</th>\n",
              "      <td>8.3</td>\n",
              "      <td>81</td>\n",
              "    </tr>\n",
              "    <tr>\n",
              "      <th>9</th>\n",
              "      <td>2.7</td>\n",
              "      <td>25</td>\n",
              "    </tr>\n",
              "  </tbody>\n",
              "</table>\n",
              "</div>"
            ],
            "text/plain": [
              "   Hours  Scores\n",
              "0    2.5      21\n",
              "1    5.1      47\n",
              "2    3.2      27\n",
              "3    8.5      75\n",
              "4    3.5      30\n",
              "5    1.5      20\n",
              "6    9.2      88\n",
              "7    5.5      60\n",
              "8    8.3      81\n",
              "9    2.7      25"
            ]
          },
          "metadata": {
            "tags": []
          },
          "execution_count": 28
        }
      ]
    },
    {
      "cell_type": "markdown",
      "metadata": {
        "id": "4CUuwPEoR99K"
      },
      "source": [
        "**As there is no null value in dataset,we can now visualize our data and see whether we can find any relationship between the data manually.**"
      ]
    },
    {
      "cell_type": "code",
      "metadata": {
        "colab": {
          "base_uri": "https://localhost:8080/"
        },
        "id": "gReTJXbJSFHq",
        "outputId": "5021c11d-c59b-4dd2-eb0d-d2d43809d2ed"
      },
      "source": [
        "data_set.isnull().sum()"
      ],
      "execution_count": 29,
      "outputs": [
        {
          "output_type": "execute_result",
          "data": {
            "text/plain": [
              "Hours     0\n",
              "Scores    0\n",
              "dtype: int64"
            ]
          },
          "metadata": {
            "tags": []
          },
          "execution_count": 29
        }
      ]
    },
    {
      "cell_type": "markdown",
      "metadata": {
        "id": "aMRsU9q4SLJy"
      },
      "source": [
        "\n",
        "# **Plotting the scatter diagram**"
      ]
    },
    {
      "cell_type": "code",
      "metadata": {
        "colab": {
          "base_uri": "https://localhost:8080/",
          "height": 300
        },
        "id": "n6VUe7uJSVcb",
        "outputId": "46d481cc-595b-4385-c65a-057219e15fcf"
      },
      "source": [
        "sns.scatterplot(y=data_set['Scores'],x=data_set['Hours'])\n",
        "plt.title('Marks vs Study Hours',size=15)  \n",
        "plt.xlabel('Study Hours',size=12)  \n",
        "plt.ylabel('Marks Percentage',size=12)  \n",
        "plt.show()"
      ],
      "execution_count": 30,
      "outputs": [
        {
          "output_type": "display_data",
          "data": {
            "image/png": "[encoded data removed]",
            "text/plain": [
              "<Figure size 432x288 with 1 Axes>"
            ]
          },
          "metadata": {
            "tags": [],
            "needs_background": "light"
          }
        }
      ]
    },
    {
      "cell_type": "markdown",
      "metadata": {
        "id": "fPCqBHF3Sb2j"
      },
      "source": [
        "**As shown in scatter diagram we can conclude that there is a positive linear co-relation between the \"Number of Hours studied\" and \"percenstage of score\"**"
      ]
    },
    {
      "cell_type": "markdown",
      "metadata": {
        "id": "kzjFDTGGSgWS"
      },
      "source": [
        "\n",
        "# **Plotting the regression line**"
      ]
    },
    {
      "cell_type": "code",
      "metadata": {
        "colab": {
          "base_uri": "https://localhost:8080/",
          "height": 350
        },
        "id": "jUOsqetWSrl0",
        "outputId": "cfd18299-435a-442f-9e1e-ad228d560326"
      },
      "source": [
        "sns.regplot(y=data_set['Scores'],x=data_set['Hours'])\n",
        "plt.title('Marks vs Study Hours',size=15)  \n",
        "plt.xlabel('Hours Studied',size=12)  \n",
        "plt.ylabel('Marks Percentage',size=12)  \n",
        "plt.show()\n",
        "print(data_set.corr())"
      ],
      "execution_count": 31,
      "outputs": [
        {
          "output_type": "display_data",
          "data": {
            "image/png": "[encoded data removed]",
            "text/plain": [
              "<Figure size 432x288 with 1 Axes>"
            ]
          },
          "metadata": {
            "tags": [],
            "needs_background": "light"
          }
        },
        {
          "output_type": "stream",
          "text": [
            "           Hours    Scores\n",
            "Hours   1.000000  0.976191\n",
            "Scores  0.976191  1.000000\n"
          ],
          "name": "stdout"
        }
      ]
    },
    {
      "cell_type": "markdown",
      "metadata": {
        "id": "YfKglgt7Svvr"
      },
      "source": [
        "**Here, we plotted a regression line to confirm the co-relation**\n",
        "\n",
        "**By observing the output we can say that the variables are positively correlated**"
      ]
    },
    {
      "cell_type": "markdown",
      "metadata": {
        "id": "Khk0CNe7TFuj"
      },
      "source": [
        "# **Preparing the data**\n",
        "\n",
        "\n",
        "**The next step is to divide the data into \"attributes\" (inputs) and \"labels\" (outputs)**"
      ]
    },
    {
      "cell_type": "code",
      "metadata": {
        "id": "YIlaWH1QTPaS"
      },
      "source": [
        "x = data_set.iloc[:, :-1].values  \n",
        "y =data_set.iloc[:, 1].values"
      ],
      "execution_count": 32,
      "outputs": []
    },
    {
      "cell_type": "markdown",
      "metadata": {
        "id": "rDyMW01iTXBN"
      },
      "source": [
        "**Next step is to split this data into training and test sets by using Scikit-Learn's built-in train_test_split() method:**"
      ]
    },
    {
      "cell_type": "code",
      "metadata": {
        "id": "vexctOfGTcms"
      },
      "source": [
        "from sklearn.model_selection import train_test_split  \n",
        "x_train, x_test, y_train, y_test = train_test_split(x, y,test_size=0.25, random_state=0)"
      ],
      "execution_count": 33,
      "outputs": []
    },
    {
      "cell_type": "markdown",
      "metadata": {
        "id": "7k1EQHFeThVr"
      },
      "source": [
        "**We have splitted the dataset as 75% Traning data and 25% Test data**\n",
        "\n",
        "\n",
        "\n",
        "# **Training the Algorithm**\n",
        "\n",
        "\n",
        "**We will be using the Linear Regression which is Supervised ML algorithm**"
      ]
    },
    {
      "cell_type": "code",
      "metadata": {
        "colab": {
          "base_uri": "https://localhost:8080/"
        },
        "id": "F7QNdBbEToua",
        "outputId": "6611369e-4804-47fa-a870-d0805faa90cd"
      },
      "source": [
        "from sklearn.linear_model import LinearRegression  \n",
        "regressor = LinearRegression()  \n",
        "regressor.fit(x_train, y_train) \n",
        "\n",
        "print(\"Training complete.\")"
      ],
      "execution_count": 34,
      "outputs": [
        {
          "output_type": "stream",
          "text": [
            "Training complete.\n"
          ],
          "name": "stdout"
        }
      ]
    },
    {
      "cell_type": "markdown",
      "metadata": {
        "id": "H6QTkxD9TuZC"
      },
      "source": [
        "# **Making Predictions**\n",
        "\n",
        "\n",
        "**We have trained our algorithm, it's time to make some predictions.**"
      ]
    },
    {
      "cell_type": "code",
      "metadata": {
        "colab": {
          "base_uri": "https://localhost:8080/"
        },
        "id": "LOdb3YA4T19U",
        "outputId": "2120c131-b23a-49cf-eab6-8c799ecbbfb4"
      },
      "source": [
        "print(x_test) # Testing data - In Hours\n",
        "y_pred = regressor.predict(x_test) # Predicting the scores"
      ],
      "execution_count": 35,
      "outputs": [
        {
          "output_type": "stream",
          "text": [
            "[[1.5]\n",
            " [3.2]\n",
            " [7.4]\n",
            " [2.5]\n",
            " [5.9]\n",
            " [3.8]\n",
            " [1.9]]\n"
          ],
          "name": "stdout"
        }
      ]
    },
    {
      "cell_type": "code",
      "metadata": {
        "colab": {
          "base_uri": "https://localhost:8080/",
          "height": 265
        },
        "id": "Ewo96treT821",
        "outputId": "f9491dc9-9ea5-4956-a3a5-95a0b9ffe49f"
      },
      "source": [
        "# Comparing Actual vs Predicted\n",
        "df = pd.DataFrame({'Hours':[i[0] for i in x_test],'Predicted Marks':[k for k in y_pred]})  \n",
        "df"
      ],
      "execution_count": 36,
      "outputs": [
        {
          "output_type": "execute_result",
          "data": {
            "text/html": [
              "<div>\n",
              "<style scoped>\n",
              "    .dataframe tbody tr th:only-of-type {\n",
              "        vertical-align: middle;\n",
              "    }\n",
              "\n",
              "    .dataframe tbody tr th {\n",
              "        vertical-align: top;\n",
              "    }\n",
              "\n",
              "    .dataframe thead th {\n",
              "        text-align: right;\n",
              "    }\n",
              "</style>\n",
              "<table border=\"1\" class=\"dataframe\">\n",
              "  <thead>\n",
              "    <tr style=\"text-align: right;\">\n",
              "      <th></th>\n",
              "      <th>Hours</th>\n",
              "      <th>Predicted Marks</th>\n",
              "    </tr>\n",
              "  </thead>\n",
              "  <tbody>\n",
              "    <tr>\n",
              "      <th>0</th>\n",
              "      <td>1.5</td>\n",
              "      <td>16.844722</td>\n",
              "    </tr>\n",
              "    <tr>\n",
              "      <th>1</th>\n",
              "      <td>3.2</td>\n",
              "      <td>33.745575</td>\n",
              "    </tr>\n",
              "    <tr>\n",
              "      <th>2</th>\n",
              "      <td>7.4</td>\n",
              "      <td>75.500624</td>\n",
              "    </tr>\n",
              "    <tr>\n",
              "      <th>3</th>\n",
              "      <td>2.5</td>\n",
              "      <td>26.786400</td>\n",
              "    </tr>\n",
              "    <tr>\n",
              "      <th>4</th>\n",
              "      <td>5.9</td>\n",
              "      <td>60.588106</td>\n",
              "    </tr>\n",
              "    <tr>\n",
              "      <th>5</th>\n",
              "      <td>3.8</td>\n",
              "      <td>39.710582</td>\n",
              "    </tr>\n",
              "    <tr>\n",
              "      <th>6</th>\n",
              "      <td>1.9</td>\n",
              "      <td>20.821393</td>\n",
              "    </tr>\n",
              "  </tbody>\n",
              "</table>\n",
              "</div>"
            ],
            "text/plain": [
              "   Hours  Predicted Marks\n",
              "0    1.5        16.844722\n",
              "1    3.2        33.745575\n",
              "2    7.4        75.500624\n",
              "3    2.5        26.786400\n",
              "4    5.9        60.588106\n",
              "5    3.8        39.710582\n",
              "6    1.9        20.821393"
            ]
          },
          "metadata": {
            "tags": []
          },
          "execution_count": 36
        }
      ]
    },
    {
      "cell_type": "code",
      "metadata": {
        "colab": {
          "base_uri": "https://localhost:8080/",
          "height": 265
        },
        "id": "_7lqPf1JUC90",
        "outputId": "71ca5f19-39e3-4025-9876-06f86a7e0c39"
      },
      "source": [
        "df = pd.DataFrame({'Actual': y_test, 'Predicted': y_pred})  \n",
        "df"
      ],
      "execution_count": 37,
      "outputs": [
        {
          "output_type": "execute_result",
          "data": {
            "text/html": [
              "<div>\n",
              "<style scoped>\n",
              "    .dataframe tbody tr th:only-of-type {\n",
              "        vertical-align: middle;\n",
              "    }\n",
              "\n",
              "    .dataframe tbody tr th {\n",
              "        vertical-align: top;\n",
              "    }\n",
              "\n",
              "    .dataframe thead th {\n",
              "        text-align: right;\n",
              "    }\n",
              "</style>\n",
              "<table border=\"1\" class=\"dataframe\">\n",
              "  <thead>\n",
              "    <tr style=\"text-align: right;\">\n",
              "      <th></th>\n",
              "      <th>Actual</th>\n",
              "      <th>Predicted</th>\n",
              "    </tr>\n",
              "  </thead>\n",
              "  <tbody>\n",
              "    <tr>\n",
              "      <th>0</th>\n",
              "      <td>20</td>\n",
              "      <td>16.844722</td>\n",
              "    </tr>\n",
              "    <tr>\n",
              "      <th>1</th>\n",
              "      <td>27</td>\n",
              "      <td>33.745575</td>\n",
              "    </tr>\n",
              "    <tr>\n",
              "      <th>2</th>\n",
              "      <td>69</td>\n",
              "      <td>75.500624</td>\n",
              "    </tr>\n",
              "    <tr>\n",
              "      <th>3</th>\n",
              "      <td>30</td>\n",
              "      <td>26.786400</td>\n",
              "    </tr>\n",
              "    <tr>\n",
              "      <th>4</th>\n",
              "      <td>62</td>\n",
              "      <td>60.588106</td>\n",
              "    </tr>\n",
              "    <tr>\n",
              "      <th>5</th>\n",
              "      <td>35</td>\n",
              "      <td>39.710582</td>\n",
              "    </tr>\n",
              "    <tr>\n",
              "      <th>6</th>\n",
              "      <td>24</td>\n",
              "      <td>20.821393</td>\n",
              "    </tr>\n",
              "  </tbody>\n",
              "</table>\n",
              "</div>"
            ],
            "text/plain": [
              "   Actual  Predicted\n",
              "0      20  16.844722\n",
              "1      27  33.745575\n",
              "2      69  75.500624\n",
              "3      30  26.786400\n",
              "4      62  60.588106\n",
              "5      35  39.710582\n",
              "6      24  20.821393"
            ]
          },
          "metadata": {
            "tags": []
          },
          "execution_count": 37
        }
      ]
    },
    {
      "cell_type": "code",
      "metadata": {
        "colab": {
          "base_uri": "https://localhost:8080/",
          "height": 350
        },
        "id": "NbWNX_ZsUGxs",
        "outputId": "113d3b7c-b3ed-4517-b013-502c626a16ea"
      },
      "source": [
        "plt.scatter(x=x_test,y=y_test,color='red')\n",
        "plt.plot(x_test,y_pred,color='black')\n",
        "plt.title('Actual vs Predicted',size=15)  \n",
        "plt.xlabel('Hours Studied',size=12)  \n",
        "plt.ylabel('Marks Percentage',size=12)  \n",
        "plt.show()\n",
        "print(data_set.corr())"
      ],
      "execution_count": 38,
      "outputs": [
        {
          "output_type": "display_data",
          "data": {
            "image/png": "[encoded data removed]",
            "text/plain": [
              "<Figure size 432x288 with 1 Axes>"
            ]
          },
          "metadata": {
            "tags": [],
            "needs_background": "light"
          }
        },
        {
          "output_type": "stream",
          "text": [
            "           Hours    Scores\n",
            "Hours   1.000000  0.976191\n",
            "Scores  0.976191  1.000000\n"
          ],
          "name": "stdout"
        }
      ]
    },
    {
      "cell_type": "markdown",
      "metadata": {
        "id": "QBpKSV7-UNw8"
      },
      "source": [
        "**The final step is to evaluate the performance of algorithm. This step is particularly important to compare how  different algorithms perform on a particular dataset. For simplicity we have choosen the mean square error.**"
      ]
    },
    {
      "cell_type": "code",
      "metadata": {
        "colab": {
          "base_uri": "https://localhost:8080/"
        },
        "id": "iqRPmC4HUPiW",
        "outputId": "08ead633-be30-4bab-c44b-b542564b2376"
      },
      "source": [
        "from sklearn import metrics as m\n",
        "print('Mean Absolute Error:', m.mean_absolute_error(y_test, y_pred))"
      ],
      "execution_count": 39,
      "outputs": [
        {
          "output_type": "stream",
          "text": [
            "Mean Absolute Error: 4.130879918502482\n"
          ],
          "name": "stdout"
        }
      ]
    },
    {
      "cell_type": "markdown",
      "metadata": {
        "id": "6tz2v6k3a32K"
      },
      "source": [
        "**Small value of Mean absulate error shows the less chances of error wrong forecasting through the model**"
      ]
    },
    {
      "cell_type": "markdown",
      "metadata": {
        "id": "agcCq-AdUWdL"
      },
      "source": [
        "# **Question.**\n",
        "\n",
        "**What will be the predicted score of a student if he/she studied for 9.25 hrs/day?**"
      ]
    },
    {
      "cell_type": "code",
      "metadata": {
        "colab": {
          "base_uri": "https://localhost:8080/"
        },
        "id": "asG_QZT2UftL",
        "outputId": "35689722-6dd8-45da-d617-4eafb08cefe5"
      },
      "source": [
        "Hours=[9.25]\n",
        "Answer=regressor.predict([Hours])\n",
        "print('score={}'.format(round(Answer[0],3)))"
      ],
      "execution_count": 42,
      "outputs": [
        {
          "output_type": "stream",
          "text": [
            "score=93.893\n"
          ],
          "name": "stdout"
        }
      ]
    },
    {
      "cell_type": "markdown",
      "metadata": {
        "id": "hsq4aAufbheF"
      },
      "source": [
        "**According to the regression model if a student studies for 9.25hr a day is likely to score 93.893 marks**"
      ]
    },
    {
      "cell_type": "markdown",
      "metadata": {
        "id": "xj4ZqWarbXeV"
      },
      "source": [
        "**What will be the predicted score of a student if he/she studied for 7.21 hrs/day?**"
      ]
    },
    {
      "cell_type": "code",
      "metadata": {
        "colab": {
          "base_uri": "https://localhost:8080/"
        },
        "id": "UH6yVOyRbGC9",
        "outputId": "a18269fa-1bc6-4585-c611-9da928fce70f"
      },
      "source": [
        "Hours=[7.21]\n",
        "Answer=regressor.predict([Hours])\n",
        "print('score={}'.format(round(Answer[0],3)))"
      ],
      "execution_count": 43,
      "outputs": [
        {
          "output_type": "stream",
          "text": [
            "score=73.612\n"
          ],
          "name": "stdout"
        }
      ]
    },
    {
      "cell_type": "markdown",
      "metadata": {
        "id": "CBnOH7p0Uobc"
      },
      "source": [
        "**According to the regression model if a student studies for 9.25hr a day is likely to score 73.612 marks**"
      ]
    },
    {
      "cell_type": "markdown",
      "metadata": {
        "id": "Cj3QxVJzUqlT"
      },
      "source": [
        "# **Thanks for watching!!!**\n",
        "\n",
        "\n",
        "\n"
      ]
    }
  ]
}